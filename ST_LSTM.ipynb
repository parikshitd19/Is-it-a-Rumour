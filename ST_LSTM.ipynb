{
 "cells": [
  {
   "cell_type": "code",
   "execution_count": null,
   "metadata": {
    "colab": {
     "base_uri": "https://localhost:8080/"
    },
    "executionInfo": {
     "elapsed": 18129,
     "status": "ok",
     "timestamp": 1620909190947,
     "user": {
      "displayName": "Parikshit Diwan",
      "photoUrl": "",
      "userId": "00679473227816171942"
     },
     "user_tz": -600
    },
    "id": "wuVQRNdctQsz",
    "outputId": "e4e91c40-0a9b-4b33-ae00-e28c86940e4e"
   },
   "outputs": [],
   "source": [
    "!pip install sentence_transformers\n",
    "!pip install jsonlines\n",
    "!pip install optuna"
   ]
  },
  {
   "cell_type": "code",
   "execution_count": null,
   "metadata": {
    "id": "O-28bkk_tsmn"
   },
   "outputs": [],
   "source": [
    "from sentence_transformers import SentenceTransformer\n",
    "import re\n",
    "import numpy as np\n",
    "import jsonlines\n",
    "import json\n",
    "from helper_function import *\n",
    "from Tweet_Info_Obj import *"
   ]
  },
  {
   "cell_type": "code",
   "execution_count": null,
   "metadata": {
    "colab": {
     "base_uri": "https://localhost:8080/"
    },
    "executionInfo": {
     "elapsed": 18929,
     "status": "ok",
     "timestamp": 1620909235154,
     "user": {
      "displayName": "Parikshit Diwan",
      "photoUrl": "",
      "userId": "00679473227816171942"
     },
     "user_tz": -600
    },
    "id": "Uxn5GTAtt4ie",
    "outputId": "602eaff8-a848-449a-cb4b-9a9efa7bd402"
   },
   "outputs": [],
   "source": [
    "from google.colab import drive\n",
    "\n",
    "drive.mount('/content/gdrive')\n",
    "\n",
    "folder='/content/gdrive/My Drive/project-data'"
   ]
  },
  {
   "cell_type": "code",
   "execution_count": null,
   "metadata": {
    "colab": {
     "base_uri": "https://localhost:8080/",
     "height": 66,
     "referenced_widgets": [
      "72001edb334146e3bd48a92baa67c9ac",
      "02241c18d37d4547b8719d4c03855069",
      "61b4ced7a59040c3ad4e6c80f048d0e5",
      "af0f385f03ae40d481200837423fb22e",
      "4e72e1c485c047938c3be1b98ed185e1",
      "e7ba0ea36beb42d78fd2f30bf92f402b",
      "48ee1af1764446109be7d96431a77fb6",
      "ed06b3a1e2f64e15b52d4d4b0e867948"
     ]
    },
    "executionInfo": {
     "elapsed": 22469,
     "status": "ok",
     "timestamp": 1620909278375,
     "user": {
      "displayName": "Parikshit Diwan",
      "photoUrl": "",
      "userId": "00679473227816171942"
     },
     "user_tz": -600
    },
    "id": "_pBetFWHuGQW",
    "outputId": "53052b34-5cbc-4262-edc7-b8c3c57e908f"
   },
   "outputs": [],
   "source": [
    "model = SentenceTransformer('stsb-mpnet-base-v2')"
   ]
  },
  {
   "cell_type": "code",
   "execution_count": null,
   "metadata": {
    "id": "zj9GnE6_uHah"
   },
   "outputs": [],
   "source": [
    "train_tweets_corpus,train_tweet_id,train_tweet_info=extract_data(folder+'/train.data.jsonl')\n",
    "dev_tweets_corpus,dev_tweet_id,dev_tweet_info=extract_data(folder+'/dev.data.jsonl')\n",
    "test_tweets_corpus,test_tweet_id,test_tweet_info=extract_data(folder+'/test.data.jsonl')\n",
    "\n",
    "train_data_label=get_labels(folder+'/train.label.json',train_tweet_id)\n",
    "dev_data_label=get_labels(folder+'/dev.label.json',dev_tweet_id)\n",
    "\n",
    "preprocess_train_tweet_corpous=preprocees_tweets(train_tweets_corpus)\n",
    "preprocess_test_tweet_corpous=preprocees_tweets(test_tweets_corpus)\n",
    "preprocess_dev_tweet_corpous=preprocees_tweets(dev_tweets_corpus)"
   ]
  },
  {
   "cell_type": "code",
   "execution_count": null,
   "metadata": {
    "id": "ULtMu7pZuPjP"
   },
   "outputs": [],
   "source": [
    "TrainY=[0 if x=='non-rumour' else 1 for x in train_data_label]\n",
    "DevY=[0 if x=='non-rumour' else 1 for x in dev_data_label]"
   ]
  },
  {
   "cell_type": "code",
   "execution_count": null,
   "metadata": {
    "id": "5nAZ8h2IuVks"
   },
   "outputs": [],
   "source": [
    "def convert_sentence_to_embedding(corpus,tweet_info):\n",
    "  embedd_corp=[]\n",
    "  pool = model.start_multi_process_pool()\n",
    "  for i in range(len(corpus)):\n",
    "    emd=model.encode_multi_process(corpus[i], pool)\n",
    "    vec=np.zeros(emd[0].shape)\n",
    "    retweet_count_sum=sum([t.retweet_count for t in tweet_info[i]])\n",
    "    for j in range(len(corpus[i])):\n",
    "      vec+=emd[j]*(tweet_info[i][j].retweet_count+1)/(retweet_count_sum+len(corpus[i]))\n",
    "    embedd_corp.append(vec)\n",
    "  return embedd_corp\n",
    "\n",
    "train_tweet_embedd_corp=convert_sentence_to_embedding(preprocess_train_tweet_corpous,train_tweet_info)\n",
    "dev_tweet_embedd_corp=convert_sentence_to_embedding(preprocess_dev_tweet_corpous,dev_tweet_info)\n",
    "test_tweet_embedd_corp=convert_sentence_to_embedding(preprocess_test_tweet_corpous,test_tweet_info)"
   ]
  },
  {
   "cell_type": "code",
   "execution_count": null,
   "metadata": {
    "id": "vrR-kV1rucSi"
   },
   "outputs": [],
   "source": [
    "import tensorflow as tf\n",
    "from sklearn.metrics import recall_score,precision_score,f1_score,precision_recall_fscore_support\n",
    "\n",
    "def print_scores(y_true,y_pred):\n",
    "    print(f1_score(y_true,y_pred),precision_score(y_true,y_pred),recall_score(y_true,y_pred))"
   ]
  },
  {
   "cell_type": "code",
   "execution_count": null,
   "metadata": {
    "colab": {
     "base_uri": "https://localhost:8080/"
    },
    "executionInfo": {
     "elapsed": 730,
     "status": "ok",
     "timestamp": 1620909965441,
     "user": {
      "displayName": "Parikshit Diwan",
      "photoUrl": "",
      "userId": "00679473227816171942"
     },
     "user_tz": -600
    },
    "id": "S80fSI-OwxBU",
    "outputId": "69ee727e-ab5e-4833-cc34-2b1baa581d37"
   },
   "outputs": [],
   "source": [
    "train_tweet_embedd_corp[0].shape"
   ]
  },
  {
   "cell_type": "code",
   "execution_count": null,
   "metadata": {
    "id": "6Cchffu8u0zG"
   },
   "outputs": [],
   "source": [
    "model = tf.keras.Sequential([\n",
    "    tf.keras.layers.Bidirectional(tf.keras.layers.LSTM(500, return_sequences=True)),\n",
    "    tf.keras.layers.Bidirectional(tf.keras.layers.LSTM(200, return_sequences=True)),\n",
    "    tf.keras.layers.Bidirectional(tf.keras.layers.LSTM(100)),\n",
    "    tf.keras.layers.Dense(50, activation='relu'),\n",
    "    tf.keras.layers.Dense(1)\n",
    "])"
   ]
  },
  {
   "cell_type": "code",
   "execution_count": null,
   "metadata": {
    "id": "8lCxnQShyEDR"
   },
   "outputs": [],
   "source": [
    "model.compile(loss=tf.keras.losses.BinaryCrossentropy(from_logits=True),\n",
    "              optimizer=tf.keras.optimizers.Adam(1e-4),\n",
    "              metrics=['binary_accuracy',f1_m,precision_m,recall_m])\n"
   ]
  },
  {
   "cell_type": "code",
   "execution_count": null,
   "metadata": {
    "id": "zrmyGFno1WsE"
   },
   "outputs": [],
   "source": [
    "trainX=np.array(train_tweet_embedd_corp).reshape(-1, 1, 768)\n",
    "trainY=np.reshape(np.array(TrainY),(4641,1)).reshape(-1,1,1)"
   ]
  },
  {
   "cell_type": "code",
   "execution_count": null,
   "metadata": {
    "id": "eyAq65Se_Qvy"
   },
   "outputs": [],
   "source": [
    "from keras import backend as K\n",
    "\n",
    "def recall_m(y_true, y_pred):\n",
    "    true_positives = K.sum(K.round(K.clip(y_true * y_pred, 0, 1)))\n",
    "    possible_positives = K.sum(K.round(K.clip(y_true, 0, 1)))\n",
    "    recall = true_positives / (possible_positives + K.epsilon())\n",
    "    return recall\n",
    "\n",
    "def precision_m(y_true, y_pred):\n",
    "    true_positives = K.sum(K.round(K.clip(y_true * y_pred, 0, 1)))\n",
    "    predicted_positives = K.sum(K.round(K.clip(y_pred, 0, 1)))\n",
    "    precision = true_positives / (predicted_positives + K.epsilon())\n",
    "    return precision\n",
    "\n",
    "def f1_m(y_true, y_pred):\n",
    "    precision = precision_m(y_true, y_pred)\n",
    "    recall = recall_m(y_true, y_pred)\n",
    "    return 2*((precision*recall)/(precision+recall+K.epsilon()))\n"
   ]
  },
  {
   "cell_type": "code",
   "execution_count": null,
   "metadata": {
    "colab": {
     "base_uri": "https://localhost:8080/"
    },
    "executionInfo": {
     "elapsed": 72708,
     "status": "ok",
     "timestamp": 1620914429836,
     "user": {
      "displayName": "Parikshit Diwan",
      "photoUrl": "",
      "userId": "00679473227816171942"
     },
     "user_tz": -600
    },
    "id": "t5RPo9U-xIWh",
    "outputId": "b623eac1-13a3-4bdb-a3ba-2e9603fb1452"
   },
   "outputs": [],
   "source": [
    "tf.config.run_functions_eagerly(True)\n",
    "model.fit(trainX,trainY,epochs=10)"
   ]
  },
  {
   "cell_type": "code",
   "execution_count": null,
   "metadata": {
    "id": "-ZqejlGcJbgo"
   },
   "outputs": [],
   "source": []
  },
  {
   "cell_type": "code",
   "execution_count": null,
   "metadata": {
    "id": "Or50Rt4X2MMq"
   },
   "outputs": [],
   "source": [
    "devX=np.array(dev_tweet_embedd_corp).reshape(-1, 1, 768)\n",
    "devY=np.reshape(np.array(DevY),(580,1)).reshape(-1,1,1)"
   ]
  },
  {
   "cell_type": "code",
   "execution_count": null,
   "metadata": {
    "colab": {
     "base_uri": "https://localhost:8080/"
    },
    "executionInfo": {
     "elapsed": 1226,
     "status": "ok",
     "timestamp": 1620914435808,
     "user": {
      "displayName": "Parikshit Diwan",
      "photoUrl": "",
      "userId": "00679473227816171942"
     },
     "user_tz": -600
    },
    "id": "0OqJh4Rq2Yho",
    "outputId": "a545f26d-2b10-4bcc-fe04-4ebcc7f1d1cc"
   },
   "outputs": [],
   "source": [
    "pred=model.predict(devX)\n",
    "predict=[0 if i[0]<0.0 else 1 for i in pred.tolist()]"
   ]
  },
  {
   "cell_type": "code",
   "execution_count": null,
   "metadata": {
    "colab": {
     "base_uri": "https://localhost:8080/"
    },
    "executionInfo": {
     "elapsed": 1004,
     "status": "ok",
     "timestamp": 1620914438739,
     "user": {
      "displayName": "Parikshit Diwan",
      "photoUrl": "",
      "userId": "00679473227816171942"
     },
     "user_tz": -600
    },
    "id": "Em6pIoAy4qZR",
    "outputId": "37b4857a-5272-463c-fa8f-2291be9415dd"
   },
   "outputs": [],
   "source": [
    "print_scores(DevY,predict)"
   ]
  },
  {
   "cell_type": "code",
   "execution_count": null,
   "metadata": {
    "colab": {
     "base_uri": "https://localhost:8080/"
    },
    "executionInfo": {
     "elapsed": 731,
     "status": "ok",
     "timestamp": 1620916167254,
     "user": {
      "displayName": "Parikshit Diwan",
      "photoUrl": "",
      "userId": "00679473227816171942"
     },
     "user_tz": -600
    },
    "id": "s_Y9I04p42fs",
    "outputId": "516e7da9-7b90-465c-a84b-17f6d9e699bd"
   },
   "outputs": [],
   "source": [
    "from collections import Counter\n",
    "\n"
   ]
  },
  {
   "cell_type": "code",
   "execution_count": null,
   "metadata": {
    "id": "Wq3MQTAHIpZe"
   },
   "outputs": [],
   "source": [
    "new_trainX=np.array(train_tweet_embedd_corp+dev_tweet_embedd_corp).reshape(-1, 1, 768)\n",
    "new_trainY=np.reshape(np.array(TrainY+DevY),(len(TrainY+DevY),1)).reshape(-1,1,1)"
   ]
  },
  {
   "cell_type": "code",
   "execution_count": null,
   "metadata": {
    "colab": {
     "base_uri": "https://localhost:8080/"
    },
    "executionInfo": {
     "elapsed": 99565,
     "status": "ok",
     "timestamp": 1620916544076,
     "user": {
      "displayName": "Parikshit Diwan",
      "photoUrl": "",
      "userId": "00679473227816171942"
     },
     "user_tz": -600
    },
    "id": "NRWniq4rJcQr",
    "outputId": "777dcc04-6711-4441-9f54-42db0a09657f"
   },
   "outputs": [],
   "source": [
    "model.fit(new_trainX,new_trainY,epochs=10)"
   ]
  },
  {
   "cell_type": "code",
   "execution_count": null,
   "metadata": {
    "colab": {
     "base_uri": "https://localhost:8080/"
    },
    "executionInfo": {
     "elapsed": 1921,
     "status": "ok",
     "timestamp": 1620916600868,
     "user": {
      "displayName": "Parikshit Diwan",
      "photoUrl": "",
      "userId": "00679473227816171942"
     },
     "user_tz": -600
    },
    "id": "4CSJycFmJjKk",
    "outputId": "52ddb689-5557-4d05-cf2e-76fb30b2ef22"
   },
   "outputs": [],
   "source": [
    "testX=np.array(test_tweet_embedd_corp).reshape(-1, 1, 768)\n",
    "pred=model.predict(testX)\n",
    "y_pred=[0 if i[0]<0.0 else 1 for i in pred.tolist()]\n",
    "output_dict={}\n",
    "\n",
    "for i in range(len(test_tweet_id)):\n",
    "    if y_pred[i]==0:\n",
    "        output_dict[test_tweet_id[i]]='non-rumour'\n",
    "    else: \n",
    "        output_dict[test_tweet_id[i]]='rumour'\n",
    "\n",
    "with open(folder+'/test-output.json', 'w') as f:\n",
    "    json.dump(output_dict, f)"
   ]
  }
 ],
 "metadata": {
  "accelerator": "GPU",
  "colab": {
   "authorship_tag": "ABX9TyMKA7yo9of6Xb+94R3c0fNy",
   "collapsed_sections": [],
   "name": "ST LSTM.ipynb",
   "provenance": []
  },
  "kernelspec": {
   "display_name": "Python 3",
   "language": "python",
   "name": "python3"
  },
  "language_info": {
   "codemirror_mode": {
    "name": "ipython",
    "version": 3
   },
   "file_extension": ".py",
   "mimetype": "text/x-python",
   "name": "python",
   "nbconvert_exporter": "python",
   "pygments_lexer": "ipython3",
   "version": "3.7.9"
  },
  "widgets": {
   "application/vnd.jupyter.widget-state+json": {
    "02241c18d37d4547b8719d4c03855069": {
     "model_module": "@jupyter-widgets/base",
     "model_name": "LayoutModel",
     "state": {
      "_model_module": "@jupyter-widgets/base",
      "_model_module_version": "1.2.0",
      "_model_name": "LayoutModel",
      "_view_count": null,
      "_view_module": "@jupyter-widgets/base",
      "_view_module_version": "1.2.0",
      "_view_name": "LayoutView",
      "align_content": null,
      "align_items": null,
      "align_self": null,
      "border": null,
      "bottom": null,
      "display": null,
      "flex": null,
      "flex_flow": null,
      "grid_area": null,
      "grid_auto_columns": null,
      "grid_auto_flow": null,
      "grid_auto_rows": null,
      "grid_column": null,
      "grid_gap": null,
      "grid_row": null,
      "grid_template_areas": null,
      "grid_template_columns": null,
      "grid_template_rows": null,
      "height": null,
      "justify_content": null,
      "justify_items": null,
      "left": null,
      "margin": null,
      "max_height": null,
      "max_width": null,
      "min_height": null,
      "min_width": null,
      "object_fit": null,
      "object_position": null,
      "order": null,
      "overflow": null,
      "overflow_x": null,
      "overflow_y": null,
      "padding": null,
      "right": null,
      "top": null,
      "visibility": null,
      "width": null
     }
    },
    "48ee1af1764446109be7d96431a77fb6": {
     "model_module": "@jupyter-widgets/controls",
     "model_name": "DescriptionStyleModel",
     "state": {
      "_model_module": "@jupyter-widgets/controls",
      "_model_module_version": "1.5.0",
      "_model_name": "DescriptionStyleModel",
      "_view_count": null,
      "_view_module": "@jupyter-widgets/base",
      "_view_module_version": "1.2.0",
      "_view_name": "StyleView",
      "description_width": ""
     }
    },
    "4e72e1c485c047938c3be1b98ed185e1": {
     "model_module": "@jupyter-widgets/controls",
     "model_name": "ProgressStyleModel",
     "state": {
      "_model_module": "@jupyter-widgets/controls",
      "_model_module_version": "1.5.0",
      "_model_name": "ProgressStyleModel",
      "_view_count": null,
      "_view_module": "@jupyter-widgets/base",
      "_view_module_version": "1.2.0",
      "_view_name": "StyleView",
      "bar_color": null,
      "description_width": "initial"
     }
    },
    "61b4ced7a59040c3ad4e6c80f048d0e5": {
     "model_module": "@jupyter-widgets/controls",
     "model_name": "FloatProgressModel",
     "state": {
      "_dom_classes": [],
      "_model_module": "@jupyter-widgets/controls",
      "_model_module_version": "1.5.0",
      "_model_name": "FloatProgressModel",
      "_view_count": null,
      "_view_module": "@jupyter-widgets/controls",
      "_view_module_version": "1.5.0",
      "_view_name": "ProgressView",
      "bar_style": "success",
      "description": "100%",
      "description_tooltip": null,
      "layout": "IPY_MODEL_e7ba0ea36beb42d78fd2f30bf92f402b",
      "max": 403747457,
      "min": 0,
      "orientation": "horizontal",
      "style": "IPY_MODEL_4e72e1c485c047938c3be1b98ed185e1",
      "value": 403747457
     }
    },
    "72001edb334146e3bd48a92baa67c9ac": {
     "model_module": "@jupyter-widgets/controls",
     "model_name": "HBoxModel",
     "state": {
      "_dom_classes": [],
      "_model_module": "@jupyter-widgets/controls",
      "_model_module_version": "1.5.0",
      "_model_name": "HBoxModel",
      "_view_count": null,
      "_view_module": "@jupyter-widgets/controls",
      "_view_module_version": "1.5.0",
      "_view_name": "HBoxView",
      "box_style": "",
      "children": [
       "IPY_MODEL_61b4ced7a59040c3ad4e6c80f048d0e5",
       "IPY_MODEL_af0f385f03ae40d481200837423fb22e"
      ],
      "layout": "IPY_MODEL_02241c18d37d4547b8719d4c03855069"
     }
    },
    "af0f385f03ae40d481200837423fb22e": {
     "model_module": "@jupyter-widgets/controls",
     "model_name": "HTMLModel",
     "state": {
      "_dom_classes": [],
      "_model_module": "@jupyter-widgets/controls",
      "_model_module_version": "1.5.0",
      "_model_name": "HTMLModel",
      "_view_count": null,
      "_view_module": "@jupyter-widgets/controls",
      "_view_module_version": "1.5.0",
      "_view_name": "HTMLView",
      "description": "",
      "description_tooltip": null,
      "layout": "IPY_MODEL_ed06b3a1e2f64e15b52d4d4b0e867948",
      "placeholder": "​",
      "style": "IPY_MODEL_48ee1af1764446109be7d96431a77fb6",
      "value": " 404M/404M [00:20&lt;00:00, 19.8MB/s]"
     }
    },
    "e7ba0ea36beb42d78fd2f30bf92f402b": {
     "model_module": "@jupyter-widgets/base",
     "model_name": "LayoutModel",
     "state": {
      "_model_module": "@jupyter-widgets/base",
      "_model_module_version": "1.2.0",
      "_model_name": "LayoutModel",
      "_view_count": null,
      "_view_module": "@jupyter-widgets/base",
      "_view_module_version": "1.2.0",
      "_view_name": "LayoutView",
      "align_content": null,
      "align_items": null,
      "align_self": null,
      "border": null,
      "bottom": null,
      "display": null,
      "flex": null,
      "flex_flow": null,
      "grid_area": null,
      "grid_auto_columns": null,
      "grid_auto_flow": null,
      "grid_auto_rows": null,
      "grid_column": null,
      "grid_gap": null,
      "grid_row": null,
      "grid_template_areas": null,
      "grid_template_columns": null,
      "grid_template_rows": null,
      "height": null,
      "justify_content": null,
      "justify_items": null,
      "left": null,
      "margin": null,
      "max_height": null,
      "max_width": null,
      "min_height": null,
      "min_width": null,
      "object_fit": null,
      "object_position": null,
      "order": null,
      "overflow": null,
      "overflow_x": null,
      "overflow_y": null,
      "padding": null,
      "right": null,
      "top": null,
      "visibility": null,
      "width": null
     }
    },
    "ed06b3a1e2f64e15b52d4d4b0e867948": {
     "model_module": "@jupyter-widgets/base",
     "model_name": "LayoutModel",
     "state": {
      "_model_module": "@jupyter-widgets/base",
      "_model_module_version": "1.2.0",
      "_model_name": "LayoutModel",
      "_view_count": null,
      "_view_module": "@jupyter-widgets/base",
      "_view_module_version": "1.2.0",
      "_view_name": "LayoutView",
      "align_content": null,
      "align_items": null,
      "align_self": null,
      "border": null,
      "bottom": null,
      "display": null,
      "flex": null,
      "flex_flow": null,
      "grid_area": null,
      "grid_auto_columns": null,
      "grid_auto_flow": null,
      "grid_auto_rows": null,
      "grid_column": null,
      "grid_gap": null,
      "grid_row": null,
      "grid_template_areas": null,
      "grid_template_columns": null,
      "grid_template_rows": null,
      "height": null,
      "justify_content": null,
      "justify_items": null,
      "left": null,
      "margin": null,
      "max_height": null,
      "max_width": null,
      "min_height": null,
      "min_width": null,
      "object_fit": null,
      "object_position": null,
      "order": null,
      "overflow": null,
      "overflow_x": null,
      "overflow_y": null,
      "padding": null,
      "right": null,
      "top": null,
      "visibility": null,
      "width": null
     }
    }
   }
  }
 },
 "nbformat": 4,
 "nbformat_minor": 4
}
