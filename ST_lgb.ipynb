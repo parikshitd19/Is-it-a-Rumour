{
 "cells": [
  {
   "cell_type": "code",
   "execution_count": null,
   "metadata": {
    "colab": {
     "base_uri": "https://localhost:8080/"
    },
    "executionInfo": {
     "elapsed": 18210,
     "status": "ok",
     "timestamp": 1620798306377,
     "user": {
      "displayName": "Parikshit Diwan",
      "photoUrl": "",
      "userId": "00679473227816171942"
     },
     "user_tz": -600
    },
    "id": "rKl_-0wH9pkK",
    "outputId": "bfb93313-0e6e-402f-cdfa-918c9ba80ef4"
   },
   "outputs": [],
   "source": [
    "!pip install sentence_transformers\n",
    "!pip install jsonlines\n",
    "!pip install optuna\n"
   ]
  },
  {
   "cell_type": "code",
   "execution_count": null,
   "metadata": {
    "id": "ifXPQAwy96Rt"
   },
   "outputs": [],
   "source": [
    "from sentence_transformers import SentenceTransformer\n",
    "import re\n",
    "import numpy as np\n",
    "import jsonlines\n",
    "import json\n",
    "from helper_function import *\n",
    "from Tweet_Info_Obj import *"
   ]
  },
  {
   "cell_type": "code",
   "execution_count": null,
   "metadata": {
    "colab": {
     "base_uri": "https://localhost:8080/",
     "height": 66,
     "referenced_widgets": [
      "8ad00077e25c4eea853969ee2d038308",
      "b2d5826c88914dfdaf41505de6fe9f93",
      "8a072e0f2a3c44e1be54546ad0b2ce29",
      "fce3fd88f9dc4d79ac7af32fbe918d87",
      "ea8101eb4f3c40fe814abd96f4074cbc",
      "0da1fd8e3fd74b3b90bf8ac0b92d184b",
      "57b95200355746e9babb75f9c384f4b9",
      "7a1aa6d9348f48f58a5109ab2ee7cbc7"
     ]
    },
    "executionInfo": {
     "elapsed": 32213,
     "status": "ok",
     "timestamp": 1620800329124,
     "user": {
      "displayName": "Parikshit Diwan",
      "photoUrl": "",
      "userId": "00679473227816171942"
     },
     "user_tz": -600
    },
    "id": "WX4_THPNb0jl",
    "outputId": "957e47aa-dbf9-443f-a708-bac06a8822d4"
   },
   "outputs": [],
   "source": [
    "# model = SentenceTransformer('paraphrase-distilroberta-base-v1')\n",
    "model = SentenceTransformer('stsb-mpnet-base-v2')"
   ]
  },
  {
   "cell_type": "code",
   "execution_count": null,
   "metadata": {
    "colab": {
     "base_uri": "https://localhost:8080/"
    },
    "executionInfo": {
     "elapsed": 21044,
     "status": "ok",
     "timestamp": 1620798400538,
     "user": {
      "displayName": "Parikshit Diwan",
      "photoUrl": "",
      "userId": "00679473227816171942"
     },
     "user_tz": -600
    },
    "id": "4KoWvHXbeI99",
    "outputId": "f32c76cd-e849-4715-cada-6399848c5c23"
   },
   "outputs": [],
   "source": [
    "from google.colab import drive\n",
    "\n",
    "drive.mount('/content/gdrive')\n",
    "\n",
    "folder='/content/gdrive/My Drive/project-data'"
   ]
  },
  {
   "cell_type": "code",
   "execution_count": null,
   "metadata": {
    "id": "MfBoQU51fK9i"
   },
   "outputs": [],
   "source": [
    "train_tweets_corpus,train_tweet_id,train_tweet_info=extract_data(folder+'/train.data.jsonl')\n",
    "dev_tweets_corpus,dev_tweet_id,dev_tweet_info=extract_data(folder+'/dev.data.jsonl')\n",
    "test_tweets_corpus,test_tweet_id,test_tweet_info=extract_data(folder+'/test.data.jsonl')\n",
    "\n",
    "train_data_label=get_labels(folder+'/train.label.json',train_tweet_id)\n",
    "dev_data_label=get_labels(folder+'/dev.label.json',dev_tweet_id)\n",
    "\n",
    "preprocess_train_tweet_corpous=preprocees_tweets(train_tweets_corpus)\n",
    "preprocess_test_tweet_corpous=preprocees_tweets(test_tweets_corpus)\n",
    "preprocess_dev_tweet_corpous=preprocees_tweets(dev_tweets_corpus)"
   ]
  },
  {
   "cell_type": "code",
   "execution_count": null,
   "metadata": {
    "id": "kIONzQqEw9N9"
   },
   "outputs": [],
   "source": [
    "def convert_sentence_to_embedding(corpus,tweet_info):\n",
    "  embedd_corp=[]\n",
    "  pool = model.start_multi_process_pool()\n",
    "  for i in range(len(corpus)):\n",
    "    emd=model.encode_multi_process(corpus[i], pool)\n",
    "    vec=np.zeros(emd[0].shape)\n",
    "    retweet_count_sum=sum([t.retweet_count for t in tweet_info[i]])\n",
    "    for j in range(len(corpus[i])):\n",
    "      vec+=emd[j]*(tweet_info[i][j].retweet_count+1)/(retweet_count_sum+len(corpus[i]))\n",
    "    embedd_corp.append(vec)\n",
    "  return embedd_corp\n",
    "\n",
    "train_tweet_embedd_corp=convert_sentence_to_embedding(preprocess_train_tweet_corpous,train_tweet_info)\n",
    "dev_tweet_embedd_corp=convert_sentence_to_embedding(preprocess_dev_tweet_corpous,dev_tweet_info)\n",
    "test_tweet_embedd_corp=convert_sentence_to_embedding(preprocess_test_tweet_corpous,test_tweet_info)"
   ]
  },
  {
   "cell_type": "code",
   "execution_count": null,
   "metadata": {
    "id": "XchnBteIzuqQ"
   },
   "outputs": [],
   "source": [
    "TrainY=[0 if x=='non-rumour' else 1 for x in train_data_label]\n",
    "DevY=[0 if x=='non-rumour' else 1 for x in dev_data_label]"
   ]
  },
  {
   "cell_type": "code",
   "execution_count": null,
   "metadata": {
    "id": "PgOCCO_j0Ji1"
   },
   "outputs": [],
   "source": [
    "from sklearn.metrics import recall_score,precision_score,f1_score,precision_recall_fscore_support\n",
    "import lightgbm as lgb\n",
    "import optuna"
   ]
  },
  {
   "cell_type": "code",
   "execution_count": null,
   "metadata": {
    "id": "eVZa1V3EJBow"
   },
   "outputs": [],
   "source": [
    "del preprocess_test_tweet_corpous"
   ]
  },
  {
   "cell_type": "code",
   "execution_count": null,
   "metadata": {
    "colab": {
     "base_uri": "https://localhost:8080/"
    },
    "executionInfo": {
     "elapsed": 111656,
     "status": "ok",
     "timestamp": 1620802152948,
     "user": {
      "displayName": "Parikshit Diwan",
      "photoUrl": "",
      "userId": "00679473227816171942"
     },
     "user_tz": -600
    },
    "id": "H6cQG3JK0-fY",
    "outputId": "077eb95b-b1bf-451a-868d-730ad75ed6e3"
   },
   "outputs": [],
   "source": [
    "def lgb_f1_score(y_hat, data):\n",
    "    y_true = data.get_label()\n",
    "    y_hat =y_hat = np.where(y_hat < 0.5, 0, 1)  \n",
    "    return 'f1', f1_score(y_true, y_hat), True\n",
    "\n",
    "def objective(trial):\n",
    "    param = {\n",
    "        \"objective\": \"binary\",\n",
    "        \"verbosity\": -1,\n",
    "        \"boosting_type\": \"gbdt\",\n",
    "        \"metric\":\"lgb_f1_score\",\n",
    "        \"lambda_l1\": trial.suggest_float(\"lambda_l1\", 0.01, 10.0),\n",
    "        \"lambda_l2\": trial.suggest_float(\"lambda_l2\", 0.01, 10.0),\n",
    "        \"num_leaves\": trial.suggest_int(\"num_leaves\", 2, 300),\n",
    "        \"feature_fraction\": trial.suggest_float(\"feature_fraction\", 0.1, 1.0),\n",
    "        \"bagging_fraction\": trial.suggest_float(\"bagging_fraction\", 0.1, 1.0),\n",
    "        \"bagging_freq\": trial.suggest_int(\"bagging_freq\", 1, 7),\n",
    "        \"min_child_samples\": trial.suggest_int(\"min_child_samples\", 5, 300),\n",
    "        \"learning_rate\":trial.suggest_float(\"learning_rate\", 0.001, 0.5),\n",
    "        'min_data_in_leaf': trial.suggest_int('min_data_in_leaf', 100, 500),\n",
    "        'num_iterations': trial.suggest_int('num_iterations', 400, 800),\n",
    "        'n_estimators': trial.suggest_int('n_estimators', 160000,160000),\n",
    "        'min_data_per_group':trial.suggest_int('min_data_per_group', 100,500),\n",
    "        'gpu_device_id':0\n",
    "    }\n",
    "    \n",
    "    model=lgb.LGBMClassifier()\n",
    "    model=model.set_params(**param)\n",
    "    model=model.fit(train_tweet_embedd_corp,TrainY)\n",
    "    pred=model.predict(dev_tweet_embedd_corp)\n",
    "    f1 = f1_score(DevY,pred)\n",
    "    \n",
    "    return f1\n",
    "\n",
    "study = optuna.create_study(direction='maximize')\n",
    "study.optimize(objective, n_trials=100)"
   ]
  },
  {
   "cell_type": "code",
   "execution_count": null,
   "metadata": {
    "colab": {
     "base_uri": "https://localhost:8080/"
    },
    "executionInfo": {
     "elapsed": 1631,
     "status": "ok",
     "timestamp": 1620802164445,
     "user": {
      "displayName": "Parikshit Diwan",
      "photoUrl": "",
      "userId": "00679473227816171942"
     },
     "user_tz": -600
    },
    "id": "ICDq7eK06P1x",
    "outputId": "74d13787-af52-4f4b-db4b-d11a153b1534"
   },
   "outputs": [],
   "source": [
    "param=study.best_trial.params\n",
    "param['metric']=\"lgb_f1_score\"\n",
    "param[\"objective\"]= \"binary\"\n",
    "param[\"verbosity\"]= -1\n",
    "param[\"boosting_type\"]=\"gbdt\"\n",
    "param[\"gpu_device_id\"]=0\n",
    "param"
   ]
  },
  {
   "cell_type": "code",
   "execution_count": null,
   "metadata": {
    "id": "gwZj0LZI6qps"
   },
   "outputs": [],
   "source": [
    "def print_scores(y_true,y_pred):\n",
    "    print(f1_score(y_true,y_pred),precision_score(y_true,y_pred),recall_score(y_true,y_pred))"
   ]
  },
  {
   "cell_type": "code",
   "execution_count": null,
   "metadata": {
    "colab": {
     "base_uri": "https://localhost:8080/"
    },
    "executionInfo": {
     "elapsed": 23368,
     "status": "ok",
     "timestamp": 1620802209031,
     "user": {
      "displayName": "Parikshit Diwan",
      "photoUrl": "",
      "userId": "00679473227816171942"
     },
     "user_tz": -600
    },
    "id": "Iv6bMZ2A6mNN",
    "outputId": "9ba46fdd-8a4f-4976-b3ac-da86c768dd03"
   },
   "outputs": [],
   "source": [
    "model=lgb.LGBMClassifier()\n",
    "model=model.set_params(**param)\n",
    "model=model.fit(train_tweet_embedd_corp,TrainY)\n",
    "pred=model.predict(dev_tweet_embedd_corp)\n",
    "print_scores(DevY,pred)"
   ]
  },
  {
   "cell_type": "code",
   "execution_count": null,
   "metadata": {
    "colab": {
     "base_uri": "https://localhost:8080/"
    },
    "executionInfo": {
     "elapsed": 1103,
     "status": "ok",
     "timestamp": 1620802400281,
     "user": {
      "displayName": "Parikshit Diwan",
      "photoUrl": "",
      "userId": "00679473227816171942"
     },
     "user_tz": -600
    },
    "id": "DkIyHX1pNsIU",
    "outputId": "e985835f-a2d6-4c24-d7b0-41fee11af9ae"
   },
   "outputs": [],
   "source": [
    "import joblib\n",
    "\n",
    "joblib.dump(model,folder+'/st_adv_retweetcnt.pkl')"
   ]
  },
  {
   "cell_type": "code",
   "execution_count": null,
   "metadata": {
    "colab": {
     "base_uri": "https://localhost:8080/"
    },
    "executionInfo": {
     "elapsed": 25803,
     "status": "ok",
     "timestamp": 1620802450600,
     "user": {
      "displayName": "Parikshit Diwan",
      "photoUrl": "",
      "userId": "00679473227816171942"
     },
     "user_tz": -600
    },
    "id": "A1D2d3Yu7Bgq",
    "outputId": "a177bbb4-0924-4cd4-e83a-3698dd0848da"
   },
   "outputs": [],
   "source": [
    "model=lgb.LGBMClassifier()\n",
    "model=model.set_params(**param)\n",
    "model=model.fit(train_tweet_embedd_corp+dev_tweet_embedd_corp,TrainY+DevY)\n",
    "y_pred=model.predict(test_tweet_embedd_corp)"
   ]
  },
  {
   "cell_type": "code",
   "execution_count": null,
   "metadata": {
    "id": "8X02rdc67Ikd"
   },
   "outputs": [],
   "source": [
    "output_dict={}\n",
    "\n",
    "for i in range(len(test_tweet_id)):\n",
    "    if y_pred[i]==0:\n",
    "        output_dict[test_tweet_id[i]]='non-rumour'\n",
    "    else: \n",
    "        output_dict[test_tweet_id[i]]='rumour'"
   ]
  },
  {
   "cell_type": "code",
   "execution_count": null,
   "metadata": {
    "id": "fQ6eejoR7fef"
   },
   "outputs": [],
   "source": [
    "with open(folder+'/test-output.json', 'w') as f:\n",
    "    json.dump(output_dict, f)"
   ]
  }
 ],
 "metadata": {
  "accelerator": "GPU",
  "colab": {
   "authorship_tag": "ABX9TyPO2gyKHB8kYgv0jqqeg4BD",
   "name": "ST_Lightgbm.ipynb",
   "provenance": []
  },
  "kernelspec": {
   "display_name": "Python 3",
   "language": "python",
   "name": "python3"
  },
  "language_info": {
   "codemirror_mode": {
    "name": "ipython",
    "version": 3
   },
   "file_extension": ".py",
   "mimetype": "text/x-python",
   "name": "python",
   "nbconvert_exporter": "python",
   "pygments_lexer": "ipython3",
   "version": "3.7.9"
  },
  "widgets": {
   "application/vnd.jupyter.widget-state+json": {
    "0da1fd8e3fd74b3b90bf8ac0b92d184b": {
     "model_module": "@jupyter-widgets/base",
     "model_name": "LayoutModel",
     "state": {
      "_model_module": "@jupyter-widgets/base",
      "_model_module_version": "1.2.0",
      "_model_name": "LayoutModel",
      "_view_count": null,
      "_view_module": "@jupyter-widgets/base",
      "_view_module_version": "1.2.0",
      "_view_name": "LayoutView",
      "align_content": null,
      "align_items": null,
      "align_self": null,
      "border": null,
      "bottom": null,
      "display": null,
      "flex": null,
      "flex_flow": null,
      "grid_area": null,
      "grid_auto_columns": null,
      "grid_auto_flow": null,
      "grid_auto_rows": null,
      "grid_column": null,
      "grid_gap": null,
      "grid_row": null,
      "grid_template_areas": null,
      "grid_template_columns": null,
      "grid_template_rows": null,
      "height": null,
      "justify_content": null,
      "justify_items": null,
      "left": null,
      "margin": null,
      "max_height": null,
      "max_width": null,
      "min_height": null,
      "min_width": null,
      "object_fit": null,
      "object_position": null,
      "order": null,
      "overflow": null,
      "overflow_x": null,
      "overflow_y": null,
      "padding": null,
      "right": null,
      "top": null,
      "visibility": null,
      "width": null
     }
    },
    "57b95200355746e9babb75f9c384f4b9": {
     "model_module": "@jupyter-widgets/controls",
     "model_name": "DescriptionStyleModel",
     "state": {
      "_model_module": "@jupyter-widgets/controls",
      "_model_module_version": "1.5.0",
      "_model_name": "DescriptionStyleModel",
      "_view_count": null,
      "_view_module": "@jupyter-widgets/base",
      "_view_module_version": "1.2.0",
      "_view_name": "StyleView",
      "description_width": ""
     }
    },
    "7a1aa6d9348f48f58a5109ab2ee7cbc7": {
     "model_module": "@jupyter-widgets/base",
     "model_name": "LayoutModel",
     "state": {
      "_model_module": "@jupyter-widgets/base",
      "_model_module_version": "1.2.0",
      "_model_name": "LayoutModel",
      "_view_count": null,
      "_view_module": "@jupyter-widgets/base",
      "_view_module_version": "1.2.0",
      "_view_name": "LayoutView",
      "align_content": null,
      "align_items": null,
      "align_self": null,
      "border": null,
      "bottom": null,
      "display": null,
      "flex": null,
      "flex_flow": null,
      "grid_area": null,
      "grid_auto_columns": null,
      "grid_auto_flow": null,
      "grid_auto_rows": null,
      "grid_column": null,
      "grid_gap": null,
      "grid_row": null,
      "grid_template_areas": null,
      "grid_template_columns": null,
      "grid_template_rows": null,
      "height": null,
      "justify_content": null,
      "justify_items": null,
      "left": null,
      "margin": null,
      "max_height": null,
      "max_width": null,
      "min_height": null,
      "min_width": null,
      "object_fit": null,
      "object_position": null,
      "order": null,
      "overflow": null,
      "overflow_x": null,
      "overflow_y": null,
      "padding": null,
      "right": null,
      "top": null,
      "visibility": null,
      "width": null
     }
    },
    "8a072e0f2a3c44e1be54546ad0b2ce29": {
     "model_module": "@jupyter-widgets/controls",
     "model_name": "FloatProgressModel",
     "state": {
      "_dom_classes": [],
      "_model_module": "@jupyter-widgets/controls",
      "_model_module_version": "1.5.0",
      "_model_name": "FloatProgressModel",
      "_view_count": null,
      "_view_module": "@jupyter-widgets/controls",
      "_view_module_version": "1.5.0",
      "_view_name": "ProgressView",
      "bar_style": "success",
      "description": "100%",
      "description_tooltip": null,
      "layout": "IPY_MODEL_0da1fd8e3fd74b3b90bf8ac0b92d184b",
      "max": 403747457,
      "min": 0,
      "orientation": "horizontal",
      "style": "IPY_MODEL_ea8101eb4f3c40fe814abd96f4074cbc",
      "value": 403747457
     }
    },
    "8ad00077e25c4eea853969ee2d038308": {
     "model_module": "@jupyter-widgets/controls",
     "model_name": "HBoxModel",
     "state": {
      "_dom_classes": [],
      "_model_module": "@jupyter-widgets/controls",
      "_model_module_version": "1.5.0",
      "_model_name": "HBoxModel",
      "_view_count": null,
      "_view_module": "@jupyter-widgets/controls",
      "_view_module_version": "1.5.0",
      "_view_name": "HBoxView",
      "box_style": "",
      "children": [
       "IPY_MODEL_8a072e0f2a3c44e1be54546ad0b2ce29",
       "IPY_MODEL_fce3fd88f9dc4d79ac7af32fbe918d87"
      ],
      "layout": "IPY_MODEL_b2d5826c88914dfdaf41505de6fe9f93"
     }
    },
    "b2d5826c88914dfdaf41505de6fe9f93": {
     "model_module": "@jupyter-widgets/base",
     "model_name": "LayoutModel",
     "state": {
      "_model_module": "@jupyter-widgets/base",
      "_model_module_version": "1.2.0",
      "_model_name": "LayoutModel",
      "_view_count": null,
      "_view_module": "@jupyter-widgets/base",
      "_view_module_version": "1.2.0",
      "_view_name": "LayoutView",
      "align_content": null,
      "align_items": null,
      "align_self": null,
      "border": null,
      "bottom": null,
      "display": null,
      "flex": null,
      "flex_flow": null,
      "grid_area": null,
      "grid_auto_columns": null,
      "grid_auto_flow": null,
      "grid_auto_rows": null,
      "grid_column": null,
      "grid_gap": null,
      "grid_row": null,
      "grid_template_areas": null,
      "grid_template_columns": null,
      "grid_template_rows": null,
      "height": null,
      "justify_content": null,
      "justify_items": null,
      "left": null,
      "margin": null,
      "max_height": null,
      "max_width": null,
      "min_height": null,
      "min_width": null,
      "object_fit": null,
      "object_position": null,
      "order": null,
      "overflow": null,
      "overflow_x": null,
      "overflow_y": null,
      "padding": null,
      "right": null,
      "top": null,
      "visibility": null,
      "width": null
     }
    },
    "ea8101eb4f3c40fe814abd96f4074cbc": {
     "model_module": "@jupyter-widgets/controls",
     "model_name": "ProgressStyleModel",
     "state": {
      "_model_module": "@jupyter-widgets/controls",
      "_model_module_version": "1.5.0",
      "_model_name": "ProgressStyleModel",
      "_view_count": null,
      "_view_module": "@jupyter-widgets/base",
      "_view_module_version": "1.2.0",
      "_view_name": "StyleView",
      "bar_color": null,
      "description_width": "initial"
     }
    },
    "fce3fd88f9dc4d79ac7af32fbe918d87": {
     "model_module": "@jupyter-widgets/controls",
     "model_name": "HTMLModel",
     "state": {
      "_dom_classes": [],
      "_model_module": "@jupyter-widgets/controls",
      "_model_module_version": "1.5.0",
      "_model_name": "HTMLModel",
      "_view_count": null,
      "_view_module": "@jupyter-widgets/controls",
      "_view_module_version": "1.5.0",
      "_view_name": "HTMLView",
      "description": "",
      "description_tooltip": null,
      "layout": "IPY_MODEL_7a1aa6d9348f48f58a5109ab2ee7cbc7",
      "placeholder": "​",
      "style": "IPY_MODEL_57b95200355746e9babb75f9c384f4b9",
      "value": " 404M/404M [00:57&lt;00:00, 7.02MB/s]"
     }
    }
   }
  }
 },
 "nbformat": 4,
 "nbformat_minor": 4
}
